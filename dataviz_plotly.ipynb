{
 "cells": [
  {
   "cell_type": "markdown",
   "id": "be23f202",
   "metadata": {},
   "source": [
    "# Données géospatiales : dataviz avec plotly en mode BYOD \n",
    "\n",
    "1. **Introduction**\n",
    "2. **Plotly**\n",
    "3. **treemap et sunburst**\n",
    "4. **Cartes choroplèthes**"
   ]
  },
  {
   "cell_type": "markdown",
   "id": "d0d5b2da",
   "metadata": {},
   "source": [
    "## 1. En guise d'introduction\n",
    "\n",
    "La richesse des librairies graphiques Python..."
   ]
  },
  {
   "cell_type": "code",
   "execution_count": null,
   "id": "914f3dac",
   "metadata": {},
   "outputs": [],
   "source": [
    "from IPython import display\n",
    "\n",
    "# source Jake Vanderplas PyCon 2017\n",
    "# voir https://sophiamyang.medium.com/python-visualization-landscape-3b95ede3d030\n",
    "\n",
    "display.Image(\"./data/landscape-colors.png\")"
   ]
  },
  {
   "cell_type": "code",
   "execution_count": null,
   "id": "ffbc68bc",
   "metadata": {},
   "outputs": [],
   "source": [
    "# https://pyviz.org\n",
    "\n",
    "display.IFrame(\"https://pyviz.org/tools.html#geospatial\", width=800, height=400)"
   ]
  },
  {
   "cell_type": "markdown",
   "id": "965c74f9",
   "metadata": {},
   "source": [
    "Pour les cartographies :\n",
    "- **basemap** : The matplotlib basemap toolkit is a library for plotting 2D data on maps in Python.\n",
    "- **cartopy** : Cartopy is a Python package designed for geospatial data processing in order to produce maps and other geospatial data analyses.\n",
    "- **ipleaflet** : Interactive maps in the Jupyter notebook\n",
    "- **geopandas** : GeoPandas is an open source project to make working with geospatial data in python easier.\n",
    "- **geoviews** : GeoViews is a Python library that makes it easy to explore and visualize any data that includes geographic locations. \n",
    "- **plotly** : Cf. ci-dessous..."
   ]
  },
  {
   "cell_type": "markdown",
   "id": "27acbdb4",
   "metadata": {},
   "source": [
    "## 2. Plotly pour des représentations interactives\n",
    "\n",
    "Plotly est basé sur javascript. Il permet de créer des graphiques interactifs. Il est édité par la société canadienne *Plotly* et est également intégré dans le package **dash** de création de dashboards.\n",
    "\n",
    "On va utiliser le module **plotly.express** dont l'API est particulièrement simple. Il existe un module plus complet : **plotly.graph_objects**."
   ]
  },
  {
   "cell_type": "code",
   "execution_count": null,
   "id": "76f5396c",
   "metadata": {},
   "outputs": [],
   "source": [
    "# imports\n",
    "import numpy as np\n",
    "import pandas as pd\n",
    "import plotly.express as px"
   ]
  },
  {
   "cell_type": "markdown",
   "id": "cf20422f",
   "metadata": {},
   "source": [
    "## 3. treemap et sunburst\n",
    "\n",
    "Une treemap (resp. sunburst) ou carte proportionnelle est une représentation rectangulaire (resp. circulaire) de données hiérarchiques dans un espace limité."
   ]
  },
  {
   "cell_type": "code",
   "execution_count": null,
   "id": "f7546c68",
   "metadata": {},
   "outputs": [],
   "source": [
    "# dataset\n",
    "fortune = (pd.read_csv(\"./data/Fortune_1000.csv\", na_values=\"-\")\n",
    "           .fillna(0)\n",
    "          )\n",
    "\n",
    "fortune.head()"
   ]
  },
  {
   "cell_type": "code",
   "execution_count": null,
   "id": "9e9d9bab",
   "metadata": {},
   "outputs": [],
   "source": [
    "# treemap\n",
    "px.treemap(fortune,\n",
    "          path=[\"sector\", \"company\"],\n",
    "          values=\"Market Cap\")"
   ]
  },
  {
   "cell_type": "code",
   "execution_count": null,
   "id": "13c21cf5",
   "metadata": {},
   "outputs": [],
   "source": [
    "# on limite aux 4 première capitalisations par secteur\n",
    "fortune2 = (fortune.groupby(\"sector\")\n",
    "            .apply(lambda g: g.nlargest(4, \"Market Cap\"))\n",
    "           )\n",
    "\n",
    "# sunburst\n",
    "px.sunburst(fortune2,\n",
    "          path=[\"sector\", \"company\"],\n",
    "          values=\"Market Cap\")"
   ]
  },
  {
   "cell_type": "markdown",
   "id": "84d04fe5",
   "metadata": {},
   "source": [
    "## 4. Cartes choroplèthes\n",
    "\n",
    "Une carte *choroplèthe* (du grec χῶρος  : « zone/région » et πλῆθος  : « grand nombre, multitude ») est une carte thématique où les régions sont colorées ou remplies d'un motif qui montre une mesure statistique.\n",
    "\n",
    "Pour produire une carte choroplèthe, il faut récupérer un fichier *geojson* de la partie du monde considérée. Ce fichier contient entre autres 2 informations importantes :\n",
    "- Une clé qui désigne chaque sous-région,\n",
    "- La description d'un polygone ou d'un multi-polygones sous la forme d'une liste de coordonnées (latitudes et longitudes),\n",
    "\n",
    "Il faut ensuite faire correspondre les valeurs de la colonne du DataFrame qui contient les données relatives à chaque sous-région avec celles de la clé du fichier *geojson*.\n",
    "\n",
    "Il est possible ensuite d'utiliser différents fonds de cartes et différents nuanciers."
   ]
  },
  {
   "cell_type": "markdown",
   "id": "48a53398",
   "metadata": {},
   "source": [
    "Le fichier \"./data/departements.geojson\" utilisé ci-après provient du site : https://france-geojson.gregoiredavid.fr/ et il faut analyser le fichier pour trouver la clé correspondant à chaque sous-région."
   ]
  },
  {
   "cell_type": "code",
   "execution_count": null,
   "id": "d674c094",
   "metadata": {},
   "outputs": [],
   "source": [
    "import json\n",
    "\n",
    "with open(\"./data/departements.geojson\") as f:\n",
    "    departements = json.loads(f.read())\n",
    "\n",
    "departements"
   ]
  },
  {
   "cell_type": "markdown",
   "id": "94ad815d",
   "metadata": {},
   "source": [
    "Analyse du fichier geojson :\n",
    "- departements[\"features\"] est une liste de 96 dictionnaires (les différents départements avec '2A' et '2B')\n",
    "- chaque dictionnaire contient les clés :\n",
    "    - 'type': 'Feature'\n",
    "    - 'geometry': informations géométriques (polygones...)\n",
    "    - 'properties' : informations d'identification qui permettent de référencer chaque dictionnaire"
   ]
  },
  {
   "cell_type": "code",
   "execution_count": null,
   "id": "7c14cf00",
   "metadata": {},
   "outputs": [],
   "source": [
    "# analyse du dictionnaire \"departements\"\n",
    "departements[\"features\"][0][\"properties\"]"
   ]
  },
  {
   "cell_type": "code",
   "execution_count": null,
   "id": "0eae779a",
   "metadata": {},
   "outputs": [],
   "source": [
    "# liste des valeurs de la clé \"code\"\n",
    "codes = sorted([f[\"properties\"][\"code\"] for f in departements[\"features\"]])\n",
    "print(*codes)"
   ]
  },
  {
   "cell_type": "code",
   "execution_count": null,
   "id": "af2c20e0",
   "metadata": {},
   "outputs": [],
   "source": [
    "# dataset \n",
    "geo = pd.read_csv(\"data/correspondance-code-insee-code-postal.csv\",\n",
    "                 sep=\";\",\n",
    "                 )\n",
    "\n",
    "geo.head()"
   ]
  },
  {
   "cell_type": "markdown",
   "id": "e51992d8",
   "metadata": {},
   "source": [
    "On voit que l'on va pouvoir utiliser la colonne \"Code Département\" pour référencer les dictionnaires du fichier *geojson*. La clé d'accès sera : \"properties.code\"."
   ]
  },
  {
   "cell_type": "code",
   "execution_count": null,
   "id": "c87b7160",
   "metadata": {},
   "outputs": [],
   "source": [
    "# liste des \"Code Département\"\n",
    "codes2 = sorted(geo[\"Code Département\"].unique())\n",
    "print(*codes2)"
   ]
  },
  {
   "cell_type": "markdown",
   "id": "639afb6f",
   "metadata": {},
   "source": [
    "On calcule le nombre d'habitants par département."
   ]
  },
  {
   "cell_type": "code",
   "execution_count": null,
   "id": "8a02b0a7",
   "metadata": {},
   "outputs": [],
   "source": [
    "# population des départements\n",
    "df = (geo.groupby(\"Code Département\", as_index=False)[\"Population\"]\n",
    "      .sum()\n",
    "     )\n",
    "\n",
    "df.head()"
   ]
  },
  {
   "cell_type": "markdown",
   "id": "5ba2a843",
   "metadata": {},
   "source": [
    "On produit la carte directement en donnant notamment les 4 informations :\n",
    "- le dictionnaire issu du fichier *geojson* : `geojson=departements`,\n",
    "- la clé dans le DataFrame : `locations='Code Département'`\n",
    "- la clé dans le fichier *geojson* : `featureidkey='properties.code'`\n",
    "- la grandeur représentée : `color='Population'`"
   ]
  },
  {
   "cell_type": "code",
   "execution_count": null,
   "id": "b46d82d2",
   "metadata": {},
   "outputs": [],
   "source": [
    "# choropleth_mapbox\n",
    "px.choropleth_mapbox(data_frame=df,\n",
    "                     geojson=departements,\n",
    "                     locations='Code Département',\n",
    "                     color='Population',\n",
    "                     featureidkey='properties.code',\n",
    "                     color_continuous_scale=\"teal\",\n",
    "                     mapbox_style=\"carto-positron\",\n",
    "                     zoom=4.0,\n",
    "                     center = {\"lat\": 47.0, \"lon\": 0.0},\n",
    "                     opacity=0.5,\n",
    "                     labels={'Population': 'Population en milliers'}\n",
    "                    )"
   ]
  },
  {
   "cell_type": "markdown",
   "id": "42e659c1",
   "metadata": {},
   "source": [
    "<div class=\"alert alert-success\">\n",
    "    <h3><i class=\"fa fa-edit\"></i>  Exercise 1</h3>\n",
    "    <ul>\n",
    "        <li>Produire la même carte choroplèthe en utilisant non pas le n° mais le nom du département. Que constate-t-on ?</li>\n",
    "    </ul>\n",
    "</div>"
   ]
  },
  {
   "cell_type": "code",
   "execution_count": null,
   "id": "7cf06fc7",
   "metadata": {},
   "outputs": [],
   "source": [
    "# %load exo_1.py"
   ]
  },
  {
   "cell_type": "markdown",
   "id": "59087401",
   "metadata": {},
   "source": [
    "<div class=\"alert alert-success\">\n",
    "    <h3><i class=\"fa fa-edit\"></i>  Exercise 2</h3>\n",
    "    <ul>\n",
    "        <li>Produire une carte choroplèthe avec la moyenne de l'Altitude Moyenne de chaque département, en utilisant le fond de carte \"stamen-terrain\" et le nuancier \"reds\".</li>\n",
    "    </ul>\n",
    "</div>"
   ]
  },
  {
   "cell_type": "code",
   "execution_count": null,
   "id": "e102d6c7",
   "metadata": {},
   "outputs": [],
   "source": [
    "# %load exo_2.py"
   ]
  },
  {
   "cell_type": "markdown",
   "id": "9495b892",
   "metadata": {},
   "source": [
    "<div class=\"alert alert-success\">\n",
    "    <h3><i class=\"fa fa-edit\"></i>  Exercise 3 - pour ceux qui n'ont pas de dataset</h3>\n",
    "    <ul>\n",
    "        <li>Charger le fichier \"./data/arrondissements.geojson\" et analyser la clé d'accès aux arrondissements (source: https://github.com/fxjollois/donnees)</li>\n",
    "        <li>Charger et préparer le fichier Airbnb \"./data/airbnb.csv\"</li>\n",
    "        <li>Calculer le prix moyen des hébergements Airbnb par arrondissement parisien.</li>\n",
    "        <li>Analyser les écarts entre les n° d'arrondissements avec la clé d'accès aux arrondissements dans le fichier <i>geojson</i> et opérer les transformations nécessaires.</li>\n",
    "        <li>Produire une carte choroplèthe avec la moyenne du prix des hébergements Airbnb de chaque arrondissement parisien, en utilisant le fond de carte \"open-street-map\" et le nuancier \"reds\".</li>\n",
    "    </ul>\n",
    "</div>"
   ]
  },
  {
   "cell_type": "code",
   "execution_count": null,
   "id": "d336d390",
   "metadata": {},
   "outputs": [],
   "source": [
    "# %load exo_3.py"
   ]
  },
  {
   "cell_type": "markdown",
   "id": "75e3ccf6",
   "metadata": {},
   "source": [
    "<div class=\"alert alert-info\">\n",
    "    <h3><i class=\"fa fa-info-circle\"></i> Documentation</h3>\n",
    "    <p><a href=\"https://plotly.com/python/plotly-express/\">Plotly Express</a></p>\n",
    "    <p><a href=\"https://plotly.com/python/builtin-colorscales/\">Built-in Continuous Color Scales</a></p>\n",
    "    <p><a href=\"https://plotly.com/python/mapbox-layers/\">Mapbox Map Layers</a></p>\n",
    "</div>"
   ]
  }
 ],
 "metadata": {
  "kernelspec": {
   "display_name": "Python 3",
   "language": "python",
   "name": "python3"
  },
  "language_info": {
   "codemirror_mode": {
    "name": "ipython",
    "version": 3
   },
   "file_extension": ".py",
   "mimetype": "text/x-python",
   "name": "python",
   "nbconvert_exporter": "python",
   "pygments_lexer": "ipython3",
   "version": "3.8.0"
  }
 },
 "nbformat": 4,
 "nbformat_minor": 5
}
